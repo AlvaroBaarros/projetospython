{
 "cells": [
  {
   "cell_type": "code",
   "execution_count": 4,
   "metadata": {},
   "outputs": [
    {
     "data": {
      "text/plain": [
       "'\\n-Soma: +\\n-Subtração: -\\n-Multiplicação: *\\n-Divisão: /\\n-Divisão Inteira: //\\n-Resto da divisão: %\\n-Potencia: **\\n'"
      ]
     },
     "execution_count": 4,
     "metadata": {},
     "output_type": "execute_result"
    }
   ],
   "source": [
    "# Operações matematicas (Artitmeticas)\n",
    "\"\"\"\n",
    "-Soma: +\n",
    "-Subtração: -\n",
    "-Multiplicação: *\n",
    "-Divisão: /\n",
    "-Divisão Inteira: //\n",
    "-Resto da divisão: %\n",
    "-Potencia: **\n",
    "\"\"\""
   ]
  },
  {
   "cell_type": "code",
   "execution_count": 6,
   "metadata": {},
   "outputs": [
    {
     "name": "stdout",
     "output_type": "stream",
     "text": [
      "30\n",
      "-10\n",
      "200\n",
      "0.5\n",
      "0\n",
      "2\n",
      "8\n"
     ]
    }
   ],
   "source": [
    "print(numero1 + numero2)\n",
    "print(numero1 - numero2)\n",
    "print(numero1 * numero2)\n",
    "print(numero1 / numero2)\n",
    "print(numero1 // numero2)\n",
    "print(20 % 3)\n",
    "print(2 ** 3)"
   ]
  },
  {
   "cell_type": "code",
   "execution_count": 8,
   "metadata": {},
   "outputs": [
    {
     "name": "stdout",
     "output_type": "stream",
     "text": [
      "False\n",
      "True\n",
      "False\n",
      "True\n",
      "True\n",
      "False\n"
     ]
    }
   ],
   "source": [
    "#Operadores Booleanos\n",
    "\n",
    "idade1 = 10\n",
    "idade2 = 15\n",
    "altura1 = 1.77\n",
    "altura2 = 1.65\n",
    "altura3 = altura2\n",
    "\n",
    "print(idade1 > idade2)\n",
    "print(idade1 <= idade2)\n",
    "print('Python' == 'python')\n",
    "print('banana' != 'abacaxi')\n",
    "print(altura1 >= altura2)\n",
    "print(altura2 > altura3)"
   ]
  }
 ],
 "metadata": {
  "kernelspec": {
   "display_name": "Python 3",
   "language": "python",
   "name": "python3"
  },
  "language_info": {
   "codemirror_mode": {
    "name": "ipython",
    "version": 3
   },
   "file_extension": ".py",
   "mimetype": "text/x-python",
   "name": "python",
   "nbconvert_exporter": "python",
   "pygments_lexer": "ipython3",
   "version": "3.11.1"
  },
  "orig_nbformat": 4,
  "vscode": {
   "interpreter": {
    "hash": "c8caaa0416207dc38547823dfc0b1dce2dabbcd104f4c98ba3047e83c12f5218"
   }
  }
 },
 "nbformat": 4,
 "nbformat_minor": 2
}
