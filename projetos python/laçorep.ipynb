{
 "cells": [
  {
   "cell_type": "code",
   "execution_count": 1,
   "metadata": {},
   "outputs": [
    {
     "name": "stdout",
     "output_type": "stream",
     "text": [
      "Você acertou\n"
     ]
    }
   ],
   "source": [
    "numero_sorteado = 15\n",
    "numero_escolhido = int(input('Informe um numero de 1 a 20'))\n",
    "\n",
    "if numero_sorteado == numero_escolhido:\n",
    "    print('Você acertou')\n",
    "else: \n",
    "    print('Você errou')\n",
    "\n"
   ]
  },
  {
   "cell_type": "code",
   "execution_count": 1,
   "metadata": {},
   "outputs": [],
   "source": [
    "numero_sorteado = 15\n",
    "numero_escolhido = int(input('Informe um numero de 1 a 20'))\n",
    "\n",
    "while numero_escolhido != numero_sorteado:\n",
    "    print('Você errou tente novamente')\n",
    "\n",
    "numero_escolhido = int(input('Informe um numero de 1 a 20'))"
   ]
  },
  {
   "cell_type": "code",
   "execution_count": null,
   "metadata": {},
   "outputs": [],
   "source": [
    "contador = 0 \n",
    "\n",
    "while contador < 5:\n",
    "    print(contador)\n",
    "\n",
    "    contador = contador + 1"
   ]
  }
 ],
 "metadata": {
  "kernelspec": {
   "display_name": "Python 3",
   "language": "python",
   "name": "python3"
  },
  "language_info": {
   "codemirror_mode": {
    "name": "ipython",
    "version": 3
   },
   "file_extension": ".py",
   "mimetype": "text/x-python",
   "name": "python",
   "nbconvert_exporter": "python",
   "pygments_lexer": "ipython3",
   "version": "3.11.1"
  },
  "orig_nbformat": 4,
  "vscode": {
   "interpreter": {
    "hash": "c8caaa0416207dc38547823dfc0b1dce2dabbcd104f4c98ba3047e83c12f5218"
   }
  }
 },
 "nbformat": 4,
 "nbformat_minor": 2
}
