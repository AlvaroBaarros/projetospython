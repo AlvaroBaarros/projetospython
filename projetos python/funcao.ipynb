{
 "cells": [
  {
   "cell_type": "code",
   "execution_count": 25,
   "metadata": {},
   "outputs": [
    {
     "name": "stdout",
     "output_type": "stream",
     "text": [
      "Olá VitKohiqup\n",
      "Seu namorado te ama\n",
      "Seja bem vinda(o), Vitoria!\n",
      "É um prazer te ter aqui no  curso de Python\n",
      "O resultado da soma é 12\n",
      "10\n"
     ]
    }
   ],
   "source": [
    "#função inicial\n",
    "\n",
    "def saudação():\n",
    "    print('Olá VitKohiqup')\n",
    "    print('Seu namorado te ama')\n",
    "saudação()\n",
    "\n",
    "#Função com parametro\n",
    "\n",
    "def saudacao(nome, curso='Python'):\n",
    "    print(f'Seja bem vinda(o), {nome}!')\n",
    "    print(f'É um prazer te ter aqui no  curso de {curso}')\n",
    "saudacao('Vitoria')\n",
    "\n",
    "#Função com Retorno\n",
    "\n",
    "def soma (num1, num2):\n",
    "    return num1 + num2\n",
    "resultado = soma(5, 7)\n",
    "\n",
    "print('O resultado da soma é', resultado)\n",
    "\n",
    "def calculadora(num1, num2, operacao='+'):\n",
    "    if operacao == '+':\n",
    "        return num1 + num2\n",
    "    elif operacao == '-':\n",
    "        return num1 - num2\n",
    "    elif operacao == '/':\n",
    "        return num1 / num2\n",
    "    elif operacao == '*':\n",
    "        return num1 * num2\n",
    "    elif operacao == '//':\n",
    "        return num1 // num2\n",
    "    elif operacao == '**':\n",
    "        return num1 ** num2\n",
    "    elif operacao == '%':\n",
    "        return num1 % num2\n",
    "\n",
    "resultado = calculadora (10, 20, '%')\n",
    "print(resultado)"
   ]
  }
 ],
 "metadata": {
  "kernelspec": {
   "display_name": "Python 3",
   "language": "python",
   "name": "python3"
  },
  "language_info": {
   "codemirror_mode": {
    "name": "ipython",
    "version": 3
   },
   "file_extension": ".py",
   "mimetype": "text/x-python",
   "name": "python",
   "nbconvert_exporter": "python",
   "pygments_lexer": "ipython3",
   "version": "3.11.1"
  },
  "orig_nbformat": 4,
  "vscode": {
   "interpreter": {
    "hash": "c8caaa0416207dc38547823dfc0b1dce2dabbcd104f4c98ba3047e83c12f5218"
   }
  }
 },
 "nbformat": 4,
 "nbformat_minor": 2
}
