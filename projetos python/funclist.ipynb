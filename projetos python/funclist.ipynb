{
 "cells": [
  {
   "cell_type": "code",
   "execution_count": 18,
   "metadata": {},
   "outputs": [
    {
     "name": "stdout",
     "output_type": "stream",
     "text": [
      "Antes do Append [1, 3, 12, 8, 2]\n",
      "Depois do append: [1, 3, 12, 8, 2, 3]\n",
      "Depois do Inset [1, 3, 10, 12, 8, 2, 3]\n",
      "Depois do extend [1, 2, 3, 1, 2, 3]\n",
      "Lista apos o pop [1, 3, 10, 12, 8, 2]\n",
      "Lista apos o pop [3, 10, 12, 8, 2]\n",
      "Lista depois do remove [10, 12, 8, 2]\n",
      "Quantidade de 2 na lista) 1\n",
      "[12, 10, 8, 2]\n",
      "MaiorValor 12\n",
      "MaiorValor 2\n"
     ]
    }
   ],
   "source": [
    "lista = [1, 3, 12, 8, 2]\n",
    "\n",
    "#Inset/Append\n",
    "\n",
    "print('Antes do Append', lista)\n",
    "lista.append(3)\n",
    "print('Depois do append:', lista)\n",
    "\n",
    "lista.insert(2, 10)\n",
    "print('Depois do Inset', lista)\n",
    "\n",
    "lista2 = [1, 2, 3]\n",
    "\n",
    "#extend\n",
    "\n",
    "lista2.extend(lista2)\n",
    "\n",
    "#pop\n",
    "\n",
    "print('Depois do extend', lista2)\n",
    "\n",
    "lista.pop()\n",
    "\n",
    "print('Lista apos o pop', lista)\n",
    "\n",
    "lista.pop(0)\n",
    "\n",
    "print('Lista apos o pop', lista)\n",
    "\n",
    "#remove\n",
    "\n",
    "lista.remove(3)\n",
    "print('Lista depois do remove', lista)\n",
    "\n",
    "#count\n",
    "\n",
    "print('Quantidade de 2 na lista)', lista.count(2))\n",
    "\n",
    "print \n",
    "\n",
    "#sort\n",
    "\n",
    "lista.sort(reverse=True)\n",
    "\n",
    "print(lista)\n",
    "\n",
    "\n",
    "#funções\n",
    "\"\"\"\n",
    "Len\n",
    "Sum\n",
    "Max\n",
    "Min\n",
    "\"\"\"\n",
    "\n",
    "print('MaiorValor', max(lista) )  \n",
    "print('MaiorValor', min(lista) )"
   ]
  }
 ],
 "metadata": {
  "kernelspec": {
   "display_name": "Python 3",
   "language": "python",
   "name": "python3"
  },
  "language_info": {
   "codemirror_mode": {
    "name": "ipython",
    "version": 3
   },
   "file_extension": ".py",
   "mimetype": "text/x-python",
   "name": "python",
   "nbconvert_exporter": "python",
   "pygments_lexer": "ipython3",
   "version": "3.11.1"
  },
  "orig_nbformat": 4,
  "vscode": {
   "interpreter": {
    "hash": "c8caaa0416207dc38547823dfc0b1dce2dabbcd104f4c98ba3047e83c12f5218"
   }
  }
 },
 "nbformat": 4,
 "nbformat_minor": 2
}
