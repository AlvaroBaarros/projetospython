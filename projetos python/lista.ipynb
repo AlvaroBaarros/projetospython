{
 "cells": [
  {
   "cell_type": "code",
   "execution_count": 7,
   "metadata": {},
   "outputs": [
    {
     "name": "stdout",
     "output_type": "stream",
     "text": [
      "26\n",
      "Alvaro\n",
      "3.14\n",
      "['Alvaro', 3.14, False]\n",
      "['Alvaro', False]\n",
      "26\n",
      "Alvaro\n",
      "3.14\n",
      "False\n",
      "Comprimento da Lista: 4\n"
     ]
    }
   ],
   "source": [
    "notas = [7.9, 9.7, 8.2]\n",
    "lista = [26, 'Alvaro', 3.14, False]\n",
    "print (lista[0])\n",
    "print (lista[1])\n",
    "print (lista[2])\n",
    "print(lista[1:4])\n",
    "print(lista[1:4:2])\n",
    "\n",
    "for elemento in lista:\n",
    "    print(elemento)\n",
    "\n",
    "print('Comprimento da Lista:', len(lista))"
   ]
  }
 ],
 "metadata": {
  "kernelspec": {
   "display_name": "Python 3",
   "language": "python",
   "name": "python3"
  },
  "language_info": {
   "codemirror_mode": {
    "name": "ipython",
    "version": 3
   },
   "file_extension": ".py",
   "mimetype": "text/x-python",
   "name": "python",
   "nbconvert_exporter": "python",
   "pygments_lexer": "ipython3",
   "version": "3.11.1"
  },
  "orig_nbformat": 4,
  "vscode": {
   "interpreter": {
    "hash": "c8caaa0416207dc38547823dfc0b1dce2dabbcd104f4c98ba3047e83c12f5218"
   }
  }
 },
 "nbformat": 4,
 "nbformat_minor": 2
}
