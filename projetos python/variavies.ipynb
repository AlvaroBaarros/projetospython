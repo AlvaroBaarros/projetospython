{
 "cells": [
  {
   "cell_type": "code",
   "execution_count": 38,
   "metadata": {},
   "outputs": [
    {
     "name": "stdout",
     "output_type": "stream",
     "text": [
      "17\n"
     ]
    }
   ],
   "source": [
    "idade = 17 \n",
    "print(idade)"
   ]
  },
  {
   "cell_type": "code",
   "execution_count": 39,
   "metadata": {},
   "outputs": [
    {
     "name": "stdout",
     "output_type": "stream",
     "text": [
      "alvaro da silva barros\n"
     ]
    }
   ],
   "source": [
    "nome = 'alvaro da silva barros'\n",
    "print(nome)"
   ]
  },
  {
   "cell_type": "code",
   "execution_count": 43,
   "metadata": {},
   "outputs": [],
   "source": [
    "#texto sempre adicionar ' para saber que é texto\n",
    "#int: numeros inteiros\n",
    "# float: numeros reais\n",
    "# str: cadeias de caracteres\n",
    "# bool: valores logicos"
   ]
  },
  {
   "cell_type": "code",
   "execution_count": 48,
   "metadata": {},
   "outputs": [
    {
     "name": "stdout",
     "output_type": "stream",
     "text": [
      "<class 'float'>\n"
     ]
    }
   ],
   "source": [
    "altura = 1.77\n",
    "print( type (altura) )"
   ]
  },
  {
   "cell_type": "code",
   "execution_count": 50,
   "metadata": {},
   "outputs": [
    {
     "name": "stdout",
     "output_type": "stream",
     "text": [
      "<class 'bool'>\n"
     ]
    }
   ],
   "source": [
    "estudando = True\n",
    "print (type (estudando) )"
   ]
  },
  {
   "cell_type": "code",
   "execution_count": 52,
   "metadata": {},
   "outputs": [
    {
     "name": "stdout",
     "output_type": "stream",
     "text": [
      "A linguagem que você mais gosta é a\n"
     ]
    }
   ],
   "source": [
    "#obtendo dados de usuarios e salvando em variaveis\n",
    "lingaguem = input('Qual a linguagem que você mais gosta?')\n",
    "\n",
    "print('A linguagem que você mais gosta é', lingaguem) "
   ]
  }
 ],
 "metadata": {
  "kernelspec": {
   "display_name": "Python 3",
   "language": "python",
   "name": "python3"
  },
  "language_info": {
   "codemirror_mode": {
    "name": "ipython",
    "version": 3
   },
   "file_extension": ".py",
   "mimetype": "text/x-python",
   "name": "python",
   "nbconvert_exporter": "python",
   "pygments_lexer": "ipython3",
   "version": "3.11.1 (tags/v3.11.1:a7a450f, Dec  6 2022, 19:58:39) [MSC v.1934 64 bit (AMD64)]"
  },
  "orig_nbformat": 4,
  "vscode": {
   "interpreter": {
    "hash": "c8caaa0416207dc38547823dfc0b1dce2dabbcd104f4c98ba3047e83c12f5218"
   }
  }
 },
 "nbformat": 4,
 "nbformat_minor": 2
}
