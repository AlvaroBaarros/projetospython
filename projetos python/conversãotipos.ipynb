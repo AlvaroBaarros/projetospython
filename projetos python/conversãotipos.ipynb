{
 "cells": [
  {
   "cell_type": "code",
   "execution_count": 2,
   "metadata": {},
   "outputs": [
    {
     "name": "stdout",
     "output_type": "stream",
     "text": [
      "1020\n"
     ]
    }
   ],
   "source": [
    "# Conversão de tipos\n",
    "idade = '26'\n",
    "numero1 = '10'\n",
    "numero2 = '20'\n",
    "\n",
    "print(numero1 + numero2)"
   ]
  },
  {
   "cell_type": "code",
   "execution_count": 6,
   "metadata": {},
   "outputs": [
    {
     "name": "stdout",
     "output_type": "stream",
     "text": [
      "26 <class 'str'>\n",
      "26 <class 'int'>\n"
     ]
    }
   ],
   "source": [
    "idade = '26'\n",
    "print(idade, type(idade) )\n",
    "\n",
    "idade_inteira = int(idade)\n",
    "\n",
    "print(idade_inteira, type(idade_inteira) )\n"
   ]
  },
  {
   "cell_type": "code",
   "execution_count": 7,
   "metadata": {},
   "outputs": [],
   "source": [
    "#int()\n",
    "#str()\n",
    "#float()\n",
    "#bool()"
   ]
  },
  {
   "cell_type": "code",
   "execution_count": 10,
   "metadata": {},
   "outputs": [
    {
     "name": "stdout",
     "output_type": "stream",
     "text": [
      "1.7 <class 'float'>\n"
     ]
    }
   ],
   "source": [
    "altura = float (input('Informe Sua altura:  ') )\n",
    "\n",
    "print(altura, type(altura) )"
   ]
  }
 ],
 "metadata": {
  "kernelspec": {
   "display_name": "Python 3",
   "language": "python",
   "name": "python3"
  },
  "language_info": {
   "codemirror_mode": {
    "name": "ipython",
    "version": 3
   },
   "file_extension": ".py",
   "mimetype": "text/x-python",
   "name": "python",
   "nbconvert_exporter": "python",
   "pygments_lexer": "ipython3",
   "version": "3.11.1 (tags/v3.11.1:a7a450f, Dec  6 2022, 19:58:39) [MSC v.1934 64 bit (AMD64)]"
  },
  "orig_nbformat": 4,
  "vscode": {
   "interpreter": {
    "hash": "c8caaa0416207dc38547823dfc0b1dce2dabbcd104f4c98ba3047e83c12f5218"
   }
  }
 },
 "nbformat": 4,
 "nbformat_minor": 2
}
